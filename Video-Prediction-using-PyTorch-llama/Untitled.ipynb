{
 "cells": [
  {
   "cell_type": "code",
   "execution_count": 8,
   "metadata": {},
   "outputs": [],
   "source": [
    "from PIL import Image\n",
    "\n",
    "img = Image.new('L', (800, 800))\n",
    "pixels = img.load()\n",
    "# for x in range(img.size[0]):\n",
    "#     print(x)\n",
    "#     for y in range(img.size[1]):\n",
    "#         if x != 2000 and y != 2000:\n",
    "#             pixels[x, y] = get_color(complex(-2 + .001 * x, -2 + .001 * y))\n",
    "\n",
    "x = 0\n",
    "y = 799\n",
    "rgb = ()\n",
    "with open(\"./100_data/0_0.out\", \"rb\") as f:\n",
    "    while (byte := f.read(1)):\n",
    "        if len(rgb) == 3:\n",
    "            pixels[x, y] = sum(rgb)/average(rgb)\n",
    "            rgb = ()\n",
    "            x += 1\n",
    "            if x == 800:\n",
    "                y -= 1\n",
    "                x = 0\n",
    "            if y == -1:\n",
    "                break\n",
    "        \n",
    "        rgb += (int.from_bytes(byte, \"little\"),)\n",
    "\n",
    "img.save(\"right_side_up.jpeg\", \"JPEG\")\n"
   ]
  },
  {
   "cell_type": "code",
   "execution_count": null,
   "metadata": {},
   "outputs": [],
   "source": []
  }
 ],
 "metadata": {
  "kernelspec": {
   "display_name": "Python 3",
   "language": "python",
   "name": "python3"
  },
  "language_info": {
   "codemirror_mode": {
    "name": "ipython",
    "version": 3
   },
   "file_extension": ".py",
   "mimetype": "text/x-python",
   "name": "python",
   "nbconvert_exporter": "python",
   "pygments_lexer": "ipython3",
   "version": "3.8.5"
  }
 },
 "nbformat": 4,
 "nbformat_minor": 4
}